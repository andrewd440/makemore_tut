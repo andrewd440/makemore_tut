{
 "cells": [
  {
   "cell_type": "code",
   "execution_count": 1,
   "metadata": {},
   "outputs": [],
   "source": [
    "import torch\n",
    "import torch.nn.functional as F\n",
    "import matplotlib.pyplot as plt\n",
    "%matplotlib inline"
   ]
  },
  {
   "cell_type": "code",
   "execution_count": 2,
   "metadata": {},
   "outputs": [
    {
     "name": "stdout",
     "output_type": "stream",
     "text": [
      "32033 words\n",
      "15 max word length\n",
      "['emma', 'olivia', 'ava', 'isabella', 'sophia', 'charlotte', 'mia', 'amelia', 'harper', 'evelyn']\n"
     ]
    }
   ],
   "source": [
    "words = open('names.txt').read().splitlines()\n",
    "print(len(words), 'words')\n",
    "print(max(len(word) for word in words), 'max word length')\n",
    "print(words[:10])"
   ]
  },
  {
   "cell_type": "code",
   "execution_count": 3,
   "metadata": {},
   "outputs": [
    {
     "name": "stdout",
     "output_type": "stream",
     "text": [
      "{1: 'a', 2: 'b', 3: 'c', 4: 'd', 5: 'e', 6: 'f', 7: 'g', 8: 'h', 9: 'i', 10: 'j', 11: 'k', 12: 'l', 13: 'm', 14: 'n', 15: 'o', 16: 'p', 17: 'q', 18: 'r', 19: 's', 20: 't', 21: 'u', 22: 'v', 23: 'w', 24: 'x', 25: 'y', 26: 'z', 0: '.'}\n",
      "27 characters\n"
     ]
    }
   ],
   "source": [
    "chars = sorted(list(set(''.join(words))))\n",
    "stoi = {w: i+1 for i, w in enumerate(chars)}\n",
    "stoi['.'] = 0\n",
    "itos = {i: w for w, i in stoi.items()}\n",
    "vocab_size = len(itos)\n",
    "print(itos)\n",
    "print(vocab_size, 'characters')"
   ]
  },
  {
   "cell_type": "code",
   "execution_count": 4,
   "metadata": {},
   "outputs": [],
   "source": [
    "import random\n",
    "random.seed(42)\n",
    "random.shuffle(words)"
   ]
  },
  {
   "cell_type": "code",
   "execution_count": 5,
   "metadata": {},
   "outputs": [],
   "source": [
    "block_size = 8\n",
    "device = 'cuda'\n",
    "\n",
    "def build_dataset(words):\n",
    "    X = []\n",
    "    Y = []\n",
    "    for word in words:\n",
    "        ctx = [0] * block_size\n",
    "        for c in word + '.':\n",
    "            X.append(ctx)\n",
    "            Y.append(stoi[c])\n",
    "            #print(''.join(itos[x] for x in ctx), '--->',c)\n",
    "            ctx = ctx[1:] + [stoi[c]]\n",
    "\n",
    "    X = torch.tensor(X, device=device)\n",
    "    Y = torch.tensor(Y, device=device)\n",
    "    return X, Y\n",
    "\n",
    "\n",
    "n1 = int(len(words) * .8)\n",
    "n2 = int(len(words) * .9)\n",
    "\n",
    "Xtrain, Ytrain = build_dataset(words[:n1])\n",
    "Xdev, Ydev = build_dataset(words[n1:n2])\n",
    "Xtest, Ytest = build_dataset(words[n2:])"
   ]
  },
  {
   "cell_type": "code",
   "execution_count": 6,
   "metadata": {},
   "outputs": [
    {
     "name": "stdout",
     "output_type": "stream",
     "text": [
      "........ ---> y\n",
      ".......y ---> u\n",
      "......yu ---> h\n",
      ".....yuh ---> e\n",
      "....yuhe ---> n\n",
      "...yuhen ---> g\n",
      "..yuheng ---> .\n",
      "........ ---> d\n",
      ".......d ---> i\n",
      "......di ---> o\n",
      ".....dio ---> n\n",
      "....dion ---> d\n",
      "...diond ---> r\n",
      "..diondr ---> e\n",
      ".diondre ---> .\n",
      "........ ---> x\n",
      ".......x ---> a\n",
      "......xa ---> v\n",
      ".....xav ---> i\n",
      "....xavi ---> e\n"
     ]
    }
   ],
   "source": [
    "for x, y in zip(Xtrain[:20], Ytrain[:20]):\n",
    "    print(''.join(itos[x_.item()] for x_ in x), '--->', itos[y.item()])"
   ]
  },
  {
   "attachments": {},
   "cell_type": "markdown",
   "metadata": {},
   "source": [
    "# Layer Types"
   ]
  },
  {
   "cell_type": "code",
   "execution_count": 7,
   "metadata": {},
   "outputs": [],
   "source": [
    "class Linear:\n",
    "    def __init__(self, fan_in, fan_out, device='cpu', bias=True):\n",
    "        self.weight = torch.randn((fan_in, fan_out), device=device) / fan_in**0.5\n",
    "        self.b = torch.zeros(fan_out, device=device) if bias else None\n",
    "\n",
    "    def __call__(self, x):\n",
    "        self.out = x @ self.weight\n",
    "        if self.b is not None:\n",
    "            self.out += self.b\n",
    "        return self.out\n",
    "    \n",
    "    def parameters(self):\n",
    "        return [self.weight] + ([] if self.b is None else [self.b])\n",
    "    \n",
    "class BatchNorm1d:\n",
    "    def __init__(self, fan_in, eps=1e-5, momentum=0.1, device='cpu'):\n",
    "        self.eps = eps\n",
    "        self.momentum = momentum\n",
    "        self.gamma = torch.ones(fan_in, device=device)\n",
    "        self.beta = torch.zeros(fan_in, device=device)\n",
    "        self.mean_running = torch.zeros(fan_in, device=device)\n",
    "        self.var_running = torch.ones(fan_in, device=device)\n",
    "        self.training = True\n",
    "\n",
    "    def __call__(self, x):\n",
    "        if self.training:\n",
    "            if x.ndim == 2:\n",
    "                dim = 0\n",
    "            elif x.ndim == 3:\n",
    "                dim = (0, 1)\n",
    "            mean = x.mean(dim, keepdim=True)\n",
    "            var = x.var(dim, keepdim=True)\n",
    "        else:\n",
    "            mean = self.mean_running\n",
    "            var = self.var_running\n",
    "\n",
    "        self.out = (x - mean) / (var + self.eps).sqrt()\n",
    "        self.out = self.out * self.gamma + self.beta\n",
    "\n",
    "        if self.training:\n",
    "            with torch.no_grad():\n",
    "                self.mean_running = self.momentum * self.mean_running + (1 - self.momentum) * mean\n",
    "                self.var_running = self.momentum * self.var_running + (1 - self.momentum) * var\n",
    "\n",
    "        return self.out \n",
    "        \n",
    "    def parameters(self):\n",
    "        return [self.gamma, self.beta]\n",
    "\n",
    "class Tanh:\n",
    "    def __call__(self, x):\n",
    "        self.out = torch.tanh(x)\n",
    "        return self.out\n",
    "    \n",
    "    def parameters(self):\n",
    "        return []\n",
    "    \n",
    "class Embedding:\n",
    "    def __init__(self, vocab_size, embedding_size, device='cpu'):\n",
    "        self.weight = torch.randn((vocab_size, embedding_size), device=device)\n",
    "\n",
    "    def __call__(self, ix):\n",
    "        self.out = self.weight[ix]\n",
    "        return self.out\n",
    "    \n",
    "    def parameters(self):\n",
    "        return [self.weight]\n",
    "    \n",
    "class FlattenConsecutive:\n",
    "    def __init__(self, n):\n",
    "        self.n = n\n",
    "\n",
    "    def __call__(self, x):\n",
    "        B, T, C = x.shape\n",
    "        self.out = x.view(B, T//self.n, C*self.n)\n",
    "        if self.out.shape[1] == 1:\n",
    "            self.out = self.out.squeeze(1)\n",
    "        return self.out\n",
    "    \n",
    "    def parameters(self):\n",
    "        return []\n",
    "    \n",
    "class Sequential:\n",
    "    def __init__(self, layers):\n",
    "        self.layers = layers\n",
    "\n",
    "    def __call__(self, x):\n",
    "        for layer in self.layers:\n",
    "            x = layer(x)\n",
    "        self.out = x\n",
    "        return x\n",
    "\n",
    "    def parameters(self):\n",
    "        return [p for layer in self.layers for p in layer.parameters()]"
   ]
  },
  {
   "attachments": {},
   "cell_type": "markdown",
   "metadata": {},
   "source": [
    "# Network Setup"
   ]
  },
  {
   "cell_type": "code",
   "execution_count": 8,
   "metadata": {},
   "outputs": [
    {
     "data": {
      "text/plain": [
       "<torch._C.Generator at 0x7faa5ba9d4d0>"
      ]
     },
     "execution_count": 8,
     "metadata": {},
     "output_type": "execute_result"
    }
   ],
   "source": [
    "torch.manual_seed(42)"
   ]
  },
  {
   "cell_type": "code",
   "execution_count": 9,
   "metadata": {},
   "outputs": [
    {
     "name": "stdout",
     "output_type": "stream",
     "text": [
      "Model Params: 76552\n"
     ]
    }
   ],
   "source": [
    "n_embd = 24\n",
    "n_hidden = 128\n",
    "\n",
    "model = Sequential([\n",
    "    Embedding(vocab_size, n_embd, device=device),\n",
    "    FlattenConsecutive(2), Linear(n_embd * 2, n_hidden, bias=False, device=device), BatchNorm1d(n_hidden, device=device), Tanh(),\n",
    "    FlattenConsecutive(2), Linear(n_hidden * 2, n_hidden, bias=False, device=device), BatchNorm1d(n_hidden, device=device), Tanh(),\n",
    "    FlattenConsecutive(2), Linear(n_hidden * 2, n_hidden, bias=False, device=device), BatchNorm1d(n_hidden, device=device), Tanh(),\n",
    "    Linear(n_hidden, vocab_size, bias=False, device=device)\n",
    "])\n",
    "\n",
    "# make last layer less confident\n",
    "with torch.no_grad():\n",
    "  model.layers[-1].weight *= 0.1\n",
    "\n",
    "print(\"Model Params:\", sum(p.nelement() for p in model.parameters()))\n",
    "\n",
    "for p in model.parameters():\n",
    "    p.requires_grad = True"
   ]
  },
  {
   "cell_type": "code",
   "execution_count": 10,
   "metadata": {},
   "outputs": [
    {
     "name": "stdout",
     "output_type": "stream",
     "text": [
      "Embedding \n",
      "FlattenConsecutive \n",
      "Linear \n",
      "BatchNorm1d \n",
      "Tanh \n",
      "FlattenConsecutive \n",
      "Linear \n",
      "BatchNorm1d \n",
      "Tanh \n",
      "FlattenConsecutive \n",
      "Linear \n",
      "BatchNorm1d \n",
      "Tanh \n",
      "Linear \n"
     ]
    }
   ],
   "source": [
    "for l in model.layers:\n",
    "    # print class name and layer output shape\n",
    "    print(l.__class__.__name__, l.out.shape if hasattr(l, 'out') else '')"
   ]
  },
  {
   "attachments": {},
   "cell_type": "markdown",
   "metadata": {},
   "source": [
    "# Training"
   ]
  },
  {
   "cell_type": "code",
   "execution_count": 11,
   "metadata": {},
   "outputs": [
    {
     "name": "stdout",
     "output_type": "stream",
     "text": [
      "      0/ 200000: 3.2722\n",
      "  10000/ 200000: 2.1023\n",
      "  20000/ 200000: 2.0940\n",
      "  30000/ 200000: 2.1045\n",
      "  40000/ 200000: 1.8258\n",
      "  50000/ 200000: 2.1681\n",
      "  60000/ 200000: 1.9409\n",
      "  70000/ 200000: 2.2880\n",
      "  80000/ 200000: 1.4527\n",
      "  90000/ 200000: 2.0657\n",
      " 100000/ 200000: 1.9235\n",
      " 110000/ 200000: 1.7749\n",
      " 120000/ 200000: 2.0051\n",
      " 130000/ 200000: 1.9197\n",
      " 140000/ 200000: 1.7978\n",
      " 150000/ 200000: 2.0751\n",
      " 160000/ 200000: 1.7593\n",
      " 170000/ 200000: 1.9993\n",
      " 180000/ 200000: 1.9351\n",
      " 190000/ 200000: 1.9820\n",
      "tensor(1.6147, device='cuda:0', grad_fn=<NllLossBackward0>)\n"
     ]
    }
   ],
   "source": [
    "batch_size = 32\n",
    "max_steps = 200000\n",
    "lossi = []\n",
    "\n",
    "for i in range(max_steps):\n",
    "    ix = torch.randint(0, Xtrain.shape[0], (batch_size,))\n",
    "    Xb, Yb = Xtrain[ix], Ytrain[ix]\n",
    "\n",
    "    logits = model(Xb)\n",
    "    loss = F.cross_entropy(logits, Yb)\n",
    "\n",
    "    #-- backprop\n",
    "    for p in model.parameters():\n",
    "        p.grad = None\n",
    "    loss.backward()\n",
    "\n",
    "    #learning_rate = lrs[i]\n",
    "    lr = 0.1 if i < 100000 else 0.01\n",
    "    for p in model.parameters():\n",
    "        p.data += -lr * p.grad\n",
    "\n",
    "    if i % 10000 == 0:\n",
    "        print(f'{i:7d}/{max_steps:7d}: {loss.item():.4f}')\n",
    "\n",
    "    lossi.append(loss.log10().item())\n",
    "    # if i >= 1:\n",
    "    #     break\n",
    "\n",
    "print(loss)"
   ]
  },
  {
   "cell_type": "code",
   "execution_count": 12,
   "metadata": {},
   "outputs": [
    {
     "data": {
      "text/plain": [
       "[<matplotlib.lines.Line2D at 0x7fa978b2e3e0>]"
      ]
     },
     "execution_count": 12,
     "metadata": {},
     "output_type": "execute_result"
    },
    {
     "data": {
      "image/png": "[encoded data removed]",
      "text/plain": [
       "<Figure size 640x480 with 1 Axes>"
      ]
     },
     "metadata": {},
     "output_type": "display_data"
    }
   ],
   "source": [
    "plt.plot(torch.tensor(lossi).view(-1, 1000).mean(1))"
   ]
  },
  {
   "cell_type": "code",
   "execution_count": 13,
   "metadata": {},
   "outputs": [],
   "source": [
    "for layer in model.layers:\n",
    "    layer.training = False"
   ]
  },
  {
   "cell_type": "code",
   "execution_count": 14,
   "metadata": {},
   "outputs": [
    {
     "name": "stdout",
     "output_type": "stream",
     "text": [
      "train 1.834971308708191\n",
      "dev 2.0279219150543213\n"
     ]
    }
   ],
   "source": [
    "@torch.no_grad()\n",
    "def split_loss(split):\n",
    "    x, y = {\n",
    "        'train': (Xtrain, Ytrain),\n",
    "        'dev': (Xdev, Ydev),\n",
    "        'test': (Xtest, Ytest),\n",
    "    }[split]\n",
    "\n",
    "    logits = model(x)\n",
    "    loss = F.cross_entropy(logits, y)\n",
    "    return loss\n",
    "\n",
    "loss_train = split_loss('train')\n",
    "print('train', loss_train.item())\n",
    "\n",
    "loss_dev = split_loss('dev')\n",
    "print('dev', loss_dev.item())"
   ]
  },
  {
   "attachments": {},
   "cell_type": "markdown",
   "metadata": {},
   "source": [
    "## Perf log\n",
    "\n",
    "- original (3 context, 10 emb, 200 hidden, 12k params): train 2.0956, dev 2.1383\n",
    "- context 3->8: train 1.9788, dev 2.0832\n",
    "- wavenet (10 emb, 200 hidden, 170k params): train 1.7997959852218628, dev 2.0326521396636963\n",
    "- 24 emb, 128 hidden, 76k params: train 1.834971308708191, dev 2.0279219150543213"
   ]
  },
  {
   "cell_type": "markdown",
   "metadata": {},
   "source": []
  },
  {
   "attachments": {},
   "cell_type": "markdown",
   "metadata": {},
   "source": [
    "# Sample from model"
   ]
  },
  {
   "cell_type": "code",
   "execution_count": 23,
   "metadata": {},
   "outputs": [
    {
     "name": "stdout",
     "output_type": "stream",
     "text": [
      "['kyrie.', 'treyden.', 'hergt.', 'harven.', 'rileigh.', 'janessa.', 'gattleigh.', 'marif.', 'kopher.', 'christianna.', 'leiella.', 'garleny.', 'cason.', 'senna.', 'jezson.', 'johana.', 'adonath.', 'ryzan.', 'kiari.', 'elyssa.']\n"
     ]
    }
   ],
   "source": [
    "samples = []\n",
    "for _ in range(20):\n",
    "    \n",
    "    out = []\n",
    "    context = [0] * block_size # initialize with all ...\n",
    "    while True:\n",
    "      # forward pass the neural net\n",
    "\n",
    "      logits = model(torch.tensor([context]))\n",
    "      # prediction\n",
    "      probs = F.softmax(logits, dim=1)\n",
    "      # sample from the distribution\n",
    "      ix = torch.multinomial(probs, num_samples=1).item()\n",
    "      # shift the context window and track the samples\n",
    "      context = context[1:] + [ix]\n",
    "      out.append(ix)\n",
    "      # if we sample the special '.' token, break\n",
    "      if ix == 0:\n",
    "        break\n",
    "    \n",
    "    samples.append(''.join(itos[i] for i in out)) # decode and print the generated word\n",
    "print(samples)\n",
    "\n",
    "# append samples to file with new line spacing added: samples.txt\n",
    "with open('samples.txt', 'a') as f:\n",
    "    # seek to the end of the file\n",
    "    f.seek(0, 2)\n",
    "    f.write(''.join(samples))\n",
    "            "
   ]
  },
  {
   "cell_type": "code",
   "execution_count": 24,
   "metadata": {},
   "outputs": [],
   "source": [
    "import re\n",
    "\n",
    "def add_newlines(text):\n",
    "    pattern = r'(?<!\\n)\\.(?!$|\\n)'\n",
    "    repl = '.\\n'\n",
    "    return re.sub(pattern, repl, text)\n",
    "\n",
    "# Open the file for reading\n",
    "with open('samples.txt', 'r') as f:\n",
    "    # Read the contents of the file\n",
    "    text = f.read()\n",
    "\n",
    "# Add new lines after periods\n",
    "formatted_text = add_newlines(text)\n",
    "\n",
    "# Open the file for writing and write the formatted text\n",
    "with open('samples.txt', 'w') as f:\n",
    "    f.write(formatted_text)\n",
    "                        "
   ]
  },
  {
   "cell_type": "markdown",
   "metadata": {},
   "source": []
  }
 ],
 "metadata": {
  "kernelspec": {
   "display_name": "makemore",
   "language": "python",
   "name": "python3"
  },
  "language_info": {
   "codemirror_mode": {
    "name": "ipython",
    "version": 3
   },
   "file_extension": ".py",
   "mimetype": "text/x-python",
   "name": "python",
   "nbconvert_exporter": "python",
   "pygments_lexer": "ipython3",
   "version": "3.10.9"
  },
  "orig_nbformat": 4,
  "vscode": {
   "interpreter": {
    "hash": "cf5a1ac80b7935826bd9522a6752671698b12798f24a5ff02276dcd363303f4b"
   }
  }
 },
 "nbformat": 4,
 "nbformat_minor": 2
}
